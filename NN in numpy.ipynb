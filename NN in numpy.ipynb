{
 "cells": [
  {
   "cell_type": "code",
   "execution_count": 2,
   "metadata": {},
   "outputs": [],
   "source": [
    "from matplotlib import pyplot as plt\n",
    "import numpy as np "
   ]
  },
  {
   "cell_type": "code",
   "execution_count": 3,
   "metadata": {},
   "outputs": [],
   "source": [
    "# each point is length, width, type (0, 1)\n",
    "data = [[3,   1.5, 1],\n",
    "        [2,   1,   0],\n",
    "        [4,   1.5, 1],\n",
    "        [3,   1,   0],\n",
    "        [3.5, .5,  1],\n",
    "        [2,   .5,  0],\n",
    "        [5.5,  1,  1],\n",
    "        [1,    1,  0]]\n",
    "\n",
    "mystery_flower = [4.5, 1]"
   ]
  },
  {
   "cell_type": "code",
   "execution_count": 5,
   "metadata": {},
   "outputs": [],
   "source": [
    "# network\n",
    "\n",
    "#       o  flower type\n",
    "#      / \\  w1, w2, b\n",
    "#     o   o  length, width"
   ]
  },
  {
   "cell_type": "code",
   "execution_count": 6,
   "metadata": {},
   "outputs": [],
   "source": [
    "w1 = np.random.randn()\n",
    "w2 = np.random.randn()\n",
    "b = np.random.randn()"
   ]
  },
  {
   "cell_type": "code",
   "execution_count": 15,
   "metadata": {},
   "outputs": [],
   "source": [
    "def sigmoid(x):\n",
    "    return 1/(1+np.exp(-x))\n",
    "\n",
    "def sigmoid_p(x):\n",
    "    # dertivative of sigmoid\n",
    "    return sigmoid(x) * (1-sigmoid(x))"
   ]
  },
  {
   "cell_type": "code",
   "execution_count": 17,
   "metadata": {},
   "outputs": [
    {
     "data": {
      "text/plain": [
       "[<matplotlib.lines.Line2D at 0x114657518>]"
      ]
     },
     "execution_count": 17,
     "metadata": {},
     "output_type": "execute_result"
    },
    {
     "data": {
      "image/png": "[encoded data removed]",
      "text/plain": [
       "<Figure size 432x288 with 1 Axes>"
      ]
     },
     "metadata": {},
     "output_type": "display_data"
    }
   ],
   "source": [
    "T = np.linspace(-6, 6, 1000)\n",
    "Y = sigmoid(T)\n",
    "plt.plot(T, sigmoid(T), c='r')\n",
    "plt.plot(T, sigmoid_p(T), c='b')"
   ]
  },
  {
   "cell_type": "code",
   "execution_count": 23,
   "metadata": {},
   "outputs": [
    {
     "data": {
      "image/png": "[encoded data removed]",
      "text/plain": [
       "<Figure size 432x288 with 1 Axes>"
      ]
     },
     "metadata": {},
     "output_type": "display_data"
    }
   ],
   "source": [
    "# scatter data\n",
    "plt.axis([0, 6, 0, 6])\n",
    "plt.grid()\n",
    "for i in range(len(data)):\n",
    "    point = data[i]\n",
    "    color = \"r\"\n",
    "    if point[2] == 0:\n",
    "        color = \"b\"\n",
    "    plt.scatter(point[0], point[1], c=color)"
   ]
  },
  {
   "cell_type": "code",
   "execution_count": 45,
   "metadata": {},
   "outputs": [
    {
     "data": {
      "text/plain": [
       "[<matplotlib.lines.Line2D at 0x11c2f5080>]"
      ]
     },
     "execution_count": 45,
     "metadata": {},
     "output_type": "execute_result"
    },
    {
     "data": {
      "image/png": "[encoded data removed]",
      "text/plain": [
       "<Figure size 432x288 with 1 Axes>"
      ]
     },
     "metadata": {},
     "output_type": "display_data"
    }
   ],
   "source": [
    "# training loop\n",
    "# grab on the point randomly\n",
    "# see what the network output is for it\n",
    "# use that as part of getting the derivative of the cost\n",
    "# bring that derivative back to our parameter and update them\n",
    "# to minimize the cost\n",
    "# and get the prediction of the network closer to what we want\n",
    "\n",
    "learning_rate = 0.2\n",
    "costs = []\n",
    "\n",
    "w1 = np.random.randn()\n",
    "w2 = np.random.randn()\n",
    "b = np.random.randn()\n",
    "\n",
    "for i in range(50000):\n",
    "    random_index = np.random.randint(len(data))\n",
    "    point = data[random_index]\n",
    "#     print(point)\n",
    "    \n",
    "    # weighted average of the point features\n",
    "    z = point[0]*w1 + point[1]*w2 + b\n",
    "    \n",
    "    # apply activation function (values of h should be between 0 and 1)\n",
    "    pred = sigmoid(z)\n",
    "    \n",
    "    target = point[2]\n",
    "    cost = np.square(pred-target)\n",
    "    costs.append(cost)\n",
    "#     print(cost)\n",
    "    \n",
    "#     if i%1000 == 0:\n",
    "#         print(cost)\n",
    "    \n",
    "    # back-propagation\n",
    "    \n",
    "    # derivative of prediction\n",
    "    dcost_pred = 2 * (pred - target)\n",
    "    \n",
    "    # derivative of activation function\n",
    "    dpred_dz = sigmoid_p(z)\n",
    "    \n",
    "    # derivative of w1\n",
    "    dz_dw1 = point[0]\n",
    "    # derivative of w2\n",
    "    dz_dw2 = point[1]\n",
    "    # derivative of b\n",
    "    dz_db = 1\n",
    "    \n",
    "    # chain rule \n",
    "    \n",
    "    # derivative of cost wrt w1\n",
    "    dcost_dw1 = dcost_pred * dpred_dz * dz_dw1\n",
    "    \n",
    "    # derivative of cost wrt w1\n",
    "    dcost_dw2 = dcost_pred * dpred_dz * dz_dw2\n",
    "    \n",
    "    # derivative of cost wrt w1\n",
    "    dcost_db = dcost_pred * dpred_dz * dz_db\n",
    "    \n",
    "    \n",
    "    # adjusting weights\n",
    "    w1 = w1 - learning_rate * dcost_dw1\n",
    "    w2 = w2 - learning_rate * dcost_dw2\n",
    "    b = b - learning_rate * dcost_db\n",
    "    \n",
    "    \n",
    "\n",
    "plt.plot(costs)"
   ]
  },
  {
   "cell_type": "code",
   "execution_count": 48,
   "metadata": {},
   "outputs": [
    {
     "name": "stdout",
     "output_type": "stream",
     "text": [
      "[3, 1.5, 1]\n",
      "pred: 0.8180545092743295\n",
      "[2, 1, 0]\n",
      "pred: 0.0008371863238476766\n",
      "[4, 1.5, 1]\n",
      "pred: 0.9997863428605018\n",
      "[3, 1, 0]\n",
      "pred: 0.465822406202004\n",
      "[3.5, 0.5, 1]\n",
      "pred: 0.845113926904035\n",
      "[2, 0.5, 0]\n",
      "pred: 0.000162483420172163\n",
      "[5.5, 1, 1]\n",
      "pred: 0.9999999671834314\n",
      "[1, 1, 0]\n",
      "pred: 8.050756087944789e-07\n"
     ]
    }
   ],
   "source": [
    "# predictions\n",
    "\n",
    "for i in range(len(data)):\n",
    "    point = data[i]\n",
    "    print(point)\n",
    "    z = point[0]*w1 + point[1]*w2 + b\n",
    "    pred = sigmoid(z)\n",
    "    print(\"pred: {}\".format(pred))"
   ]
  },
  {
   "cell_type": "code",
   "execution_count": 49,
   "metadata": {},
   "outputs": [
    {
     "name": "stdout",
     "output_type": "stream",
     "text": [
      "pred: 0.9999658471308426\n"
     ]
    }
   ],
   "source": [
    "z = mystery_flower[0]*w1 + mystery_flower[1]*w2 + b\n",
    "pred = sigmoid(z)\n",
    "print(\"pred: {}\".format(pred))"
   ]
  },
  {
   "cell_type": "code",
   "execution_count": 56,
   "metadata": {},
   "outputs": [],
   "source": [
    "# now we are using the trained weight matrix\n",
    "def which_flower(length, width):\n",
    "    z = length*w1 + width*w2 + b\n",
    "#     print(z)\n",
    "    pred = sigmoid(z)\n",
    "    \n",
    "    if pred<0.5:\n",
    "        print(\"say blue\")\n",
    "    else:\n",
    "        print(\"say red\")"
   ]
  },
  {
   "cell_type": "code",
   "execution_count": 57,
   "metadata": {},
   "outputs": [
    {
     "name": "stdout",
     "output_type": "stream",
     "text": [
      "say red\n"
     ]
    }
   ],
   "source": [
    "which_flower(3,   1.5)"
   ]
  },
  {
   "cell_type": "code",
   "execution_count": 58,
   "metadata": {},
   "outputs": [
    {
     "name": "stdout",
     "output_type": "stream",
     "text": [
      "say blue\n"
     ]
    }
   ],
   "source": [
    "which_flower(2,   1)"
   ]
  },
  {
   "cell_type": "code",
   "execution_count": null,
   "metadata": {},
   "outputs": [],
   "source": []
  },
  {
   "cell_type": "code",
   "execution_count": null,
   "metadata": {},
   "outputs": [],
   "source": []
  }
 ],
 "metadata": {
  "kernelspec": {
   "display_name": "Python 3",
   "language": "python",
   "name": "python3"
  },
  "language_info": {
   "codemirror_mode": {
    "name": "ipython",
    "version": 3
   },
   "file_extension": ".py",
   "mimetype": "text/x-python",
   "name": "python",
   "nbconvert_exporter": "python",
   "pygments_lexer": "ipython3",
   "version": "3.6.5"
  }
 },
 "nbformat": 4,
 "nbformat_minor": 2
}
