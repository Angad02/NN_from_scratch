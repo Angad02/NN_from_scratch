{
 "cells": [
  {
   "cell_type": "code",
   "execution_count": 70,
   "metadata": {},
   "outputs": [],
   "source": [
    "import numpy as np\n",
    "import matplotlib.pyplot as plt\n",
    "import pandas as pd "
   ]
  },
  {
   "cell_type": "code",
   "execution_count": 71,
   "metadata": {},
   "outputs": [],
   "source": [
    "# create random dataset\n",
    "X = np.vstack([(np.random.rand(10,2)*5), (np.random.rand(10,2)*10)])\n",
    "Y = np.hstack([[0]*10, [1]*10])\n",
    "\n",
    "dataset = pd.DataFrame(X, columns={\"X1\", \"X2\"})\n",
    "dataset[\"Y\"] = Y"
   ]
  },
  {
   "cell_type": "code",
   "execution_count": 72,
   "metadata": {},
   "outputs": [
    {
     "data": {
      "text/html": [
       "<div>\n",
       "<style scoped>\n",
       "    .dataframe tbody tr th:only-of-type {\n",
       "        vertical-align: middle;\n",
       "    }\n",
       "\n",
       "    .dataframe tbody tr th {\n",
       "        vertical-align: top;\n",
       "    }\n",
       "\n",
       "    .dataframe thead th {\n",
       "        text-align: right;\n",
       "    }\n",
       "</style>\n",
       "<table border=\"1\" class=\"dataframe\">\n",
       "  <thead>\n",
       "    <tr style=\"text-align: right;\">\n",
       "      <th></th>\n",
       "      <th>X2</th>\n",
       "      <th>X1</th>\n",
       "      <th>Y</th>\n",
       "    </tr>\n",
       "  </thead>\n",
       "  <tbody>\n",
       "    <tr>\n",
       "      <th>0</th>\n",
       "      <td>1.939473</td>\n",
       "      <td>0.243935</td>\n",
       "      <td>0</td>\n",
       "    </tr>\n",
       "    <tr>\n",
       "      <th>1</th>\n",
       "      <td>2.348233</td>\n",
       "      <td>4.383587</td>\n",
       "      <td>0</td>\n",
       "    </tr>\n",
       "    <tr>\n",
       "      <th>2</th>\n",
       "      <td>3.808635</td>\n",
       "      <td>0.165445</td>\n",
       "      <td>0</td>\n",
       "    </tr>\n",
       "    <tr>\n",
       "      <th>3</th>\n",
       "      <td>4.496411</td>\n",
       "      <td>2.675372</td>\n",
       "      <td>0</td>\n",
       "    </tr>\n",
       "    <tr>\n",
       "      <th>4</th>\n",
       "      <td>4.892664</td>\n",
       "      <td>2.651377</td>\n",
       "      <td>0</td>\n",
       "    </tr>\n",
       "    <tr>\n",
       "      <th>5</th>\n",
       "      <td>4.113260</td>\n",
       "      <td>0.175060</td>\n",
       "      <td>0</td>\n",
       "    </tr>\n",
       "    <tr>\n",
       "      <th>6</th>\n",
       "      <td>4.707514</td>\n",
       "      <td>2.786750</td>\n",
       "      <td>0</td>\n",
       "    </tr>\n",
       "    <tr>\n",
       "      <th>7</th>\n",
       "      <td>4.908800</td>\n",
       "      <td>2.207914</td>\n",
       "      <td>0</td>\n",
       "    </tr>\n",
       "    <tr>\n",
       "      <th>8</th>\n",
       "      <td>3.956205</td>\n",
       "      <td>3.602765</td>\n",
       "      <td>0</td>\n",
       "    </tr>\n",
       "    <tr>\n",
       "      <th>9</th>\n",
       "      <td>0.157102</td>\n",
       "      <td>2.312980</td>\n",
       "      <td>0</td>\n",
       "    </tr>\n",
       "    <tr>\n",
       "      <th>10</th>\n",
       "      <td>5.589987</td>\n",
       "      <td>7.782905</td>\n",
       "      <td>1</td>\n",
       "    </tr>\n",
       "    <tr>\n",
       "      <th>11</th>\n",
       "      <td>2.854409</td>\n",
       "      <td>4.975350</td>\n",
       "      <td>1</td>\n",
       "    </tr>\n",
       "    <tr>\n",
       "      <th>12</th>\n",
       "      <td>5.100912</td>\n",
       "      <td>8.333032</td>\n",
       "      <td>1</td>\n",
       "    </tr>\n",
       "    <tr>\n",
       "      <th>13</th>\n",
       "      <td>7.007336</td>\n",
       "      <td>9.765273</td>\n",
       "      <td>1</td>\n",
       "    </tr>\n",
       "    <tr>\n",
       "      <th>14</th>\n",
       "      <td>7.556042</td>\n",
       "      <td>5.367200</td>\n",
       "      <td>1</td>\n",
       "    </tr>\n",
       "    <tr>\n",
       "      <th>15</th>\n",
       "      <td>2.278718</td>\n",
       "      <td>7.388907</td>\n",
       "      <td>1</td>\n",
       "    </tr>\n",
       "    <tr>\n",
       "      <th>16</th>\n",
       "      <td>6.316724</td>\n",
       "      <td>6.523231</td>\n",
       "      <td>1</td>\n",
       "    </tr>\n",
       "    <tr>\n",
       "      <th>17</th>\n",
       "      <td>3.780065</td>\n",
       "      <td>2.733479</td>\n",
       "      <td>1</td>\n",
       "    </tr>\n",
       "    <tr>\n",
       "      <th>18</th>\n",
       "      <td>9.294251</td>\n",
       "      <td>4.424539</td>\n",
       "      <td>1</td>\n",
       "    </tr>\n",
       "    <tr>\n",
       "      <th>19</th>\n",
       "      <td>0.595131</td>\n",
       "      <td>9.228573</td>\n",
       "      <td>1</td>\n",
       "    </tr>\n",
       "  </tbody>\n",
       "</table>\n",
       "</div>"
      ],
      "text/plain": [
       "          X2        X1  Y\n",
       "0   1.939473  0.243935  0\n",
       "1   2.348233  4.383587  0\n",
       "2   3.808635  0.165445  0\n",
       "3   4.496411  2.675372  0\n",
       "4   4.892664  2.651377  0\n",
       "5   4.113260  0.175060  0\n",
       "6   4.707514  2.786750  0\n",
       "7   4.908800  2.207914  0\n",
       "8   3.956205  3.602765  0\n",
       "9   0.157102  2.312980  0\n",
       "10  5.589987  7.782905  1\n",
       "11  2.854409  4.975350  1\n",
       "12  5.100912  8.333032  1\n",
       "13  7.007336  9.765273  1\n",
       "14  7.556042  5.367200  1\n",
       "15  2.278718  7.388907  1\n",
       "16  6.316724  6.523231  1\n",
       "17  3.780065  2.733479  1\n",
       "18  9.294251  4.424539  1\n",
       "19  0.595131  9.228573  1"
      ]
     },
     "execution_count": 72,
     "metadata": {},
     "output_type": "execute_result"
    }
   ],
   "source": [
    "dataset"
   ]
  },
  {
   "cell_type": "code",
   "execution_count": 73,
   "metadata": {},
   "outputs": [
    {
     "data": {
      "text/plain": [
       "<matplotlib.legend.Legend at 0x117447630>"
      ]
     },
     "execution_count": 73,
     "metadata": {},
     "output_type": "execute_result"
    },
    {
     "data": {
      "image/png": "[encoded data removed]",
      "text/plain": [
       "<Figure size 432x288 with 1 Axes>"
      ]
     },
     "metadata": {},
     "output_type": "display_data"
    }
   ],
   "source": [
    "plt.plot(dataset, label='Inline label')\n",
    "plt.legend([\"X2\", \"X1\", \"Y\"])"
   ]
  },
  {
   "cell_type": "code",
   "execution_count": 74,
   "metadata": {},
   "outputs": [],
   "source": [
    "# create target variables to vector of number of classes\n",
    "# one-hot encoding\n",
    "Z = np.zeros((20,2))\n",
    "for i in range(20):\n",
    "    Z[i, Y[i]] = 1\n"
   ]
  },
  {
   "cell_type": "code",
   "execution_count": 75,
   "metadata": {},
   "outputs": [
    {
     "data": {
      "text/plain": [
       "array([[1.93947345, 0.24393505],\n",
       "       [2.34823264, 4.38358717],\n",
       "       [3.80863541, 0.16544485],\n",
       "       [4.4964112 , 2.6753721 ],\n",
       "       [4.89266371, 2.65137674],\n",
       "       [4.11325984, 0.17505995],\n",
       "       [4.70751398, 2.78675046],\n",
       "       [4.90880017, 2.20791389],\n",
       "       [3.95620478, 3.60276509],\n",
       "       [0.15710219, 2.31298038],\n",
       "       [5.58998735, 7.78290501],\n",
       "       [2.85440883, 4.9753497 ],\n",
       "       [5.10091165, 8.33303222],\n",
       "       [7.00733638, 9.76527312],\n",
       "       [7.55604151, 5.36719964],\n",
       "       [2.27871839, 7.38890729],\n",
       "       [6.31672394, 6.52323097],\n",
       "       [3.78006523, 2.73347945],\n",
       "       [9.294251  , 4.42453903],\n",
       "       [0.59513144, 9.22857333]])"
      ]
     },
     "execution_count": 75,
     "metadata": {},
     "output_type": "execute_result"
    }
   ],
   "source": [
    "X"
   ]
  },
  {
   "cell_type": "code",
   "execution_count": 76,
   "metadata": {},
   "outputs": [],
   "source": [
    "# Initializing Random weights and biases\n",
    "# 3 neurons in first layer\n",
    "# 2 neurons in the second layer\n",
    "\n",
    "Wi_1 = np.random.randn(3,2)\n",
    "Bi_1 = np.random.randn(3)\n",
    "\n",
    "Wi_2 = np.random.randn(3,2)\n",
    "Bi_2 = np.random.randn(2)"
   ]
  },
  {
   "cell_type": "code",
   "execution_count": 77,
   "metadata": {},
   "outputs": [
    {
     "data": {
      "text/plain": [
       "array([[ 0.28252134, -1.85564043],\n",
       "       [ 1.30709815,  0.89386993],\n",
       "       [-1.25320383, -0.93454904]])"
      ]
     },
     "execution_count": 77,
     "metadata": {},
     "output_type": "execute_result"
    }
   ],
   "source": [
    "Wi_1"
   ]
  },
  {
   "cell_type": "code",
   "execution_count": 78,
   "metadata": {},
   "outputs": [
    {
     "data": {
      "text/plain": [
       "array([-1.07134485,  1.1542182 ,  1.11845081])"
      ]
     },
     "execution_count": 78,
     "metadata": {},
     "output_type": "execute_result"
    }
   ],
   "source": [
    "Bi_1"
   ]
  },
  {
   "cell_type": "code",
   "execution_count": 79,
   "metadata": {},
   "outputs": [
    {
     "data": {
      "text/plain": [
       "array([[ 2.03456725, -0.85518575],\n",
       "       [-1.03347231, -1.24340077],\n",
       "       [ 0.50201117,  1.00649194]])"
      ]
     },
     "execution_count": 79,
     "metadata": {},
     "output_type": "execute_result"
    }
   ],
   "source": [
    "Wi_2"
   ]
  },
  {
   "cell_type": "code",
   "execution_count": 80,
   "metadata": {},
   "outputs": [
    {
     "data": {
      "text/plain": [
       "array([-0.14950602, -0.05501284])"
      ]
     },
     "execution_count": 80,
     "metadata": {},
     "output_type": "execute_result"
    }
   ],
   "source": [
    "Bi_2"
   ]
  },
  {
   "cell_type": "code",
   "execution_count": 81,
   "metadata": {},
   "outputs": [
    {
     "data": {
      "text/plain": [
       "array([[1.93947345, 0.24393505],\n",
       "       [2.34823264, 4.38358717],\n",
       "       [3.80863541, 0.16544485],\n",
       "       [4.4964112 , 2.6753721 ],\n",
       "       [4.89266371, 2.65137674],\n",
       "       [4.11325984, 0.17505995],\n",
       "       [4.70751398, 2.78675046],\n",
       "       [4.90880017, 2.20791389],\n",
       "       [3.95620478, 3.60276509],\n",
       "       [0.15710219, 2.31298038],\n",
       "       [5.58998735, 7.78290501],\n",
       "       [2.85440883, 4.9753497 ],\n",
       "       [5.10091165, 8.33303222],\n",
       "       [7.00733638, 9.76527312],\n",
       "       [7.55604151, 5.36719964],\n",
       "       [2.27871839, 7.38890729],\n",
       "       [6.31672394, 6.52323097],\n",
       "       [3.78006523, 2.73347945],\n",
       "       [9.294251  , 4.42453903],\n",
       "       [0.59513144, 9.22857333]])"
      ]
     },
     "execution_count": 81,
     "metadata": {},
     "output_type": "execute_result"
    }
   ],
   "source": [
    "X"
   ]
  },
  {
   "cell_type": "code",
   "execution_count": 82,
   "metadata": {},
   "outputs": [
    {
     "data": {
      "text/plain": [
       "(20, 2)"
      ]
     },
     "execution_count": 82,
     "metadata": {},
     "output_type": "execute_result"
    }
   ],
   "source": [
    "X.shape"
   ]
  },
  {
   "cell_type": "code",
   "execution_count": 83,
   "metadata": {},
   "outputs": [
    {
     "data": {
      "text/plain": [
       "(2, 3)"
      ]
     },
     "execution_count": 83,
     "metadata": {},
     "output_type": "execute_result"
    }
   ],
   "source": [
    "(Wi_1.T).shape"
   ]
  },
  {
   "cell_type": "code",
   "execution_count": 84,
   "metadata": {},
   "outputs": [],
   "source": [
    "m = X.dot(Wi_1.T)"
   ]
  },
  {
   "cell_type": "code",
   "execution_count": 85,
   "metadata": {},
   "outputs": [
    {
     "data": {
      "text/plain": [
       "(20, 3)"
      ]
     },
     "execution_count": 85,
     "metadata": {},
     "output_type": "execute_result"
    }
   ],
   "source": [
    "m.shape"
   ]
  },
  {
   "cell_type": "code",
   "execution_count": 86,
   "metadata": {},
   "outputs": [
    {
     "data": {
      "text/plain": [
       "(3,)"
      ]
     },
     "execution_count": 86,
     "metadata": {},
     "output_type": "execute_result"
    }
   ],
   "source": [
    "Bi_1.shape"
   ]
  },
  {
   "cell_type": "code",
   "execution_count": 87,
   "metadata": {},
   "outputs": [
    {
     "data": {
      "text/plain": [
       "(20, 3)"
      ]
     },
     "execution_count": 87,
     "metadata": {},
     "output_type": "execute_result"
    }
   ],
   "source": [
    "z = X.dot(Wi_1.T) + Bi_1\n",
    "z.shape"
   ]
  },
  {
   "cell_type": "code",
   "execution_count": 88,
   "metadata": {},
   "outputs": [],
   "source": [
    "def sigmoid(x):\n",
    "    return 1/(1+np.exp(-x))"
   ]
  },
  {
   "cell_type": "code",
   "execution_count": 89,
   "metadata": {},
   "outputs": [],
   "source": [
    "# Defining the forward propagation function\n",
    "def forward_prop(X, Wi_1, Bi_1, Wi_2, Bi_2):\n",
    "    #first layer\n",
    "    z = X.dot(Wi_1.T) + Bi_1\n",
    "    M = sigmoid(z)\n",
    "    \n",
    "    #second layer\n",
    "    A = M.dot(Wi_2) + Bi_2\n",
    "    \n",
    "    #softmax functiom\n",
    "    expA = np.exp(A)\n",
    "    Y = expA / expA.sum(axis=1, keepdims=True)\n",
    "    return Y, M\n",
    "    \n",
    "\n",
    "# Y = [x1, x2] x1 = class prob of class 1, x2 = class prob of class 2\n",
    "# M = weight matrix"
   ]
  },
  {
   "cell_type": "code",
   "execution_count": 90,
   "metadata": {},
   "outputs": [
    {
     "data": {
      "text/plain": [
       "(array([[0.69276951, 0.30723049],\n",
       "        [0.52861572, 0.47138428],\n",
       "        [0.79120643, 0.20879357],\n",
       "        [0.53478724, 0.46521276],\n",
       "        [0.53584959, 0.46415041],\n",
       "        [0.7996703 , 0.2003297 ],\n",
       "        [0.53399885, 0.46600115],\n",
       "        [0.54472578, 0.45527422],\n",
       "        [0.52967057, 0.47032943],\n",
       "        [0.50242326, 0.49757674],\n",
       "        [0.5288272 , 0.4711728 ],\n",
       "        [0.52877346, 0.47122654],\n",
       "        [0.52882674, 0.47117326],\n",
       "        [0.52882683, 0.47117317],\n",
       "        [0.52892518, 0.47107482],\n",
       "        [0.52880403, 0.47119597],\n",
       "        [0.52883462, 0.47116538],\n",
       "        [0.5330227 , 0.4669773 ],\n",
       "        [0.52975176, 0.47024824],\n",
       "        [0.52879208, 0.47120792]]),\n",
       " array([[2.73674670e-01, 9.80302058e-01, 1.76524515e-01],\n",
       "        [1.95006901e-04, 9.99709014e-01, 2.67523155e-03],\n",
       "        [4.24987938e-01, 9.98130783e-01, 2.16860381e-02],\n",
       "        [8.44632731e-03, 9.99919156e-01, 8.95944850e-04],\n",
       "        [9.86288388e-03, 9.99950792e-01, 5.57831471e-04],\n",
       "        [4.41738477e-01, 9.98754701e-01, 1.47754250e-02],\n",
       "        [7.29982350e-03, 9.99944462e-01, 6.19871243e-04],\n",
       "        [2.22785966e-02, 9.99928382e-01, 8.27163910e-04],\n",
       "        [1.30653521e-03, 9.99928502e-01, 7.41242771e-04],\n",
       "        [4.87368169e-03, 9.68539906e-01, 2.24431831e-01],\n",
       "        [8.87969702e-07, 9.99999799e-01, 1.92525700e-06],\n",
       "        [7.50430554e-05, 9.99911509e-01, 8.17523074e-04],\n",
       "        [2.78641392e-07, 9.99999767e-01, 2.12516605e-06],\n",
       "        [3.34752849e-08, 9.99999995e-01, 5.11094373e-08],\n",
       "        [1.36890196e-04, 9.99999866e-01, 1.56641311e-06],\n",
       "        [7.23826523e-07, 9.99978284e-01, 1.76406342e-04],\n",
       "        [1.12908493e-05, 9.99999760e-01, 2.51315004e-06],\n",
       "        [6.20762004e-03, 9.99804256e-01, 2.07998590e-03],\n",
       "        [1.28479033e-03, 9.99999968e-01, 4.28022842e-07],\n",
       "        [1.48076590e-08, 9.99962128e-01, 2.60688253e-04]]))"
      ]
     },
     "execution_count": 90,
     "metadata": {},
     "output_type": "execute_result"
    }
   ],
   "source": [
    "forward_prop(X, Wi_1, Bi_1, Wi_2, Bi_2)"
   ]
  },
  {
   "cell_type": "code",
   "execution_count": 91,
   "metadata": {},
   "outputs": [],
   "source": [
    "# Back-propagation by differentiating or Gradient Descent\n",
    "\n",
    "# H = hidden layer (weight matrix)\n",
    "# Z = actual \n",
    "# Y = predicted\n",
    "# output = prediction prob\n",
    "\n",
    "# return derivative for weight_2\n",
    "def diff_Wi_2(H, Z, Y):\n",
    "    return H.T.dot(Z-Y)\n",
    "\n",
    "# return derivative for weight_1\n",
    "def diff_Wi_1(X, H, Z, output, Wi_2):\n",
    "    dz = (Z-output).dot(Wi_2.T) * H * (1-H)\n",
    "    return X.T.dot(dz)\n",
    "\n",
    "# return derivative for bias_1\n",
    "def diff_B2(Z, Y):\n",
    "    return (Z-Y).sum(axis=0)\n",
    "\n",
    "# return derivative for bias_2\n",
    "def diff_B1(Z, Y, Wi_2, H):\n",
    "    return ((Z-Y).dot(Wi_2.T) * H * (1-H)).sum(axis=0)"
   ]
  },
  {
   "cell_type": "code",
   "execution_count": 92,
   "metadata": {},
   "outputs": [],
   "source": [
    "# back-propagation and adjusting the weights and biases\n",
    "learning_rate = 1e-3\n",
    "for epoch in range(5000):\n",
    "    output, hidden = forward_prop(X, Wi_1, Bi_1, Wi_2, Bi_2)\n",
    "    Wi_2 = Wi_2 + learning_rate * diff_Wi_2(hidden, Z, output)\n",
    "    Bi_2 = Bi_2 + learning_rate * diff_B2(Z, output)\n",
    "    Wi_1 = Wi_1 + learning_rate * diff_Wi_1(X, hidden, Z, output, Wi_2).T\n",
    "    Bi_1 = Bi_1 + learning_rate * diff_B1(Z, output, Wi_2, hidden)\n",
    "    "
   ]
  },
  {
   "cell_type": "code",
   "execution_count": 93,
   "metadata": {},
   "outputs": [
    {
     "name": "stdout",
     "output_type": "stream",
     "text": [
      "[0.32604815 0.67395185]\n"
     ]
    }
   ],
   "source": [
    "# prediction\n",
    "X_test = np.array([5, 7])\n",
    "hidden_output = 1/(1+np.exp(-X_test.dot(Wi_1.T)-Bi_1))\n",
    "outer_layer_output = hidden_output.dot(Wi_2)\n",
    "expA = np.exp(outer_layer_output)\n",
    "Y = expA/expA.sum()\n",
    "print(Y)"
   ]
  },
  {
   "cell_type": "code",
   "execution_count": null,
   "metadata": {},
   "outputs": [],
   "source": []
  }
 ],
 "metadata": {
  "kernelspec": {
   "display_name": "Python 3",
   "language": "python",
   "name": "python3"
  },
  "language_info": {
   "codemirror_mode": {
    "name": "ipython",
    "version": 3
   },
   "file_extension": ".py",
   "mimetype": "text/x-python",
   "name": "python",
   "nbconvert_exporter": "python",
   "pygments_lexer": "ipython3",
   "version": "3.6.5"
  }
 },
 "nbformat": 4,
 "nbformat_minor": 2
}
